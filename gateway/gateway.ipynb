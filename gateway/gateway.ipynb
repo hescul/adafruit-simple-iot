{
 "cells": [
  {
   "cell_type": "markdown",
   "metadata": {},
   "source": [
    "# **GATEWAY MAIN PROGRAM FOR IOT LAB**\n",
    "*Author: Minh Nguyen*  \n",
    "*Date: October 30th, 2021*"
   ]
  },
  {
   "cell_type": "markdown",
   "metadata": {},
   "source": [
    "## **Overview**\n",
    "___\n",
    "The bulk of this python program is to running a simple gateway that is capable of receiving data from the [Adafruit server](https://io.adafruit.com/ \"go to Adafruit main page\") (broker) and dispatching it to an IoT Arduino node. The gateway also monitors the data sent from the Arduino and publishes it to the server, therefore establishing a form of communication between the broker and the sensor.\n",
    "\n",
    "The attributes of this simple implementation of gateway are:\n",
    "- The gateway receieves **temperature** and **humidity** data from the Arduino and publishes them to the broker.\n",
    "- The gateway listens to **led** and **servo** data from the broker and dispatches them to the Arduino.\n",
    "- The communication protocol between the gateway and the broker is **MQTT**, which is implemented through the use of the [paho-mqtt](https://pypi.org/project/paho-mqtt/ \"go to paho-mqtt pydoc\") library.\n",
    "- The communication protocol between the gateway and the Arduino is **serial UART**."
   ]
  },
  {
   "cell_type": "markdown",
   "metadata": {},
   "source": [
    "## **Implementation**\n",
    "___\n",
    "I will walk you through the detail implementation of this python program, including the idea and the approach I used to establish a stable communication between the gateway and the broker."
   ]
  },
  {
   "cell_type": "markdown",
   "metadata": {},
   "source": [
    " ### **The keep-in-mind tactic, recommended by Adafruit themselves.**\n",
    "The Adafruit broker has its own [API](https://pypi.org/project/adafruit-io/) for the end-users. This API is optimized and provides many ease-of-use interfaces. Because we are not going to use the Adafruit API, we need to comply with the best practices recommended by the broker. The quote below is cited from the Adafruit IO MQTT api [documentation](https://io.adafruit.com/api/docs/mqtt.html#adafruit-io-mqtt-api), under the section entitled *Writing Safe MQTT Code*:\n",
    "\n",
    "> **Always. Use. Delay.**  \n",
    "> Make sure there is time in between messages to the Adafruit IO MQTT broker. If you're saving data in an Arduino or CircuitPython sketch inside the program's main loop, make sure you're delaying, sleeping, or using some other technique to put space in between messages.\n",
    "\n",
    "During implementation, I reckoned that there are many routines of the MQTT protocol that run on seperate threads. For example the callback to `on_message()` or `on_disconnect()` function is invoked on its own thread, without any interfering to or impacted from the big `while` of the gateway. This is kinda out of control because according to the safe guide from Adafruit, we must have someway to control the delay between incoming messages. In this situation, because we have no way to tell when the message will come, there are high chances the broker will send out a lot of data to the gateway. If the `on_message()` callback were to handle all data and dispatch to the Arduino, this would lead to serious problem as instructed by the Adafruit documentation. To address this, I use a **shared-buffer queue** for the incoming messages. The `on_message()` callback only bother putting the incoming data onto the queue, and our big `while` loop will constantly check if the queue is empty or not. This way, we can put our control to the `while` loop, simply by inserting a `time.delay()` into it, and the Arduino will happily received data from the dispatching of the while loop without fearing of data lost. The pseudocode is as follow:\n",
    "\n",
    "    messageBuffer = queue.Queue()\n",
    "\n",
    "    def on_message(data, ...):\n",
    "        messageBuffer.put(data)\n",
    "\n",
    "    ...\n",
    "\n",
    "    while True:\n",
    "        if not messageBuffer.empty():\n",
    "            data = messageBuffer.get()\n",
    "            dispatch(data)\n",
    "        \n",
    "        time.delay(SCAN_DELAY)"
   ]
  },
  {
   "cell_type": "markdown",
   "metadata": {},
   "source": [
    "### **The lock-thread behavior of routines.**\n",
    "The out-thread behavior of callbacks not only making the control of incoming messages harder, but also put the data race problems at high risk. There are 2 main concerns regarding this issue:  \n",
    "- the order of debuggings message on terminal\n",
    "- the use of `userdata` object\n",
    "\n",
    "For the first concern, consider this piece of code:\n",
    "\n",
    "    gtw = mqtt.Client(...)\n",
    "\n",
    "    ...\n",
    "\n",
    "    gtw.connect()"
   ]
  }
 ],
 "metadata": {
  "interpreter": {
   "hash": "1baa965d5efe3ac65b79dfc60c0d706280b1da80fedb7760faf2759126c4f253"
  },
  "kernelspec": {
   "display_name": "Python 3.8.2 64-bit",
   "name": "python3"
  },
  "language_info": {
   "codemirror_mode": {
    "name": "ipython",
    "version": 3
   },
   "file_extension": ".py",
   "mimetype": "text/x-python",
   "name": "python",
   "nbconvert_exporter": "python",
   "pygments_lexer": "ipython3",
   "version": "3.8.2"
  }
 },
 "nbformat": 4,
 "nbformat_minor": 4
}
