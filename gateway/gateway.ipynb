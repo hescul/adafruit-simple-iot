{
 "cells": [
  {
   "cell_type": "markdown",
   "metadata": {},
   "source": [
    "# **GATEWAY MAIN PROGRAM FOR IOT LAB**\n",
    "*Author: Minh Nguyen*  \n",
    "*Date: October 30th, 2021*"
   ]
  },
  {
   "cell_type": "markdown",
   "metadata": {},
   "source": [
    "## **Overview**\n",
    "___\n",
    "The bulk of this python program is to running a simple gateway that is capable of receiving data from the [Adafruit server](https://io.adafruit.com/ \"go to Adafruit main page\") (broker) and dispatching it to an IoT Arduino node. The gateway also monitors the data sent from the Arduino and publishes it to the server, therefore establishing a form of communication between the broker and the sensor.\n",
    "\n",
    "The attributes of this simple implementation of gateway are:\n",
    "- The gateway receives **temperature** and **humidity** data from the Arduino and publishes them to the broker.\n",
    "- The gateway listens to **led** and **servo** data from the broker and dispatches them to the Arduino.\n",
    "- The communication protocol between the gateway and the broker is **MQTT**, which is implemented through the use of the [paho-mqtt](https://pypi.org/project/paho-mqtt/ \"go to paho-mqtt pydoc\") library.\n",
    "- The communication protocol between the gateway and the Arduino is **serial UART**."
   ]
  },
  {
   "cell_type": "markdown",
   "metadata": {},
   "source": [
    "## **Implementation**\n",
    "___\n",
    "I will walk you through the detail implementation of this python program, including the idea and the approach I used to establish a stable communication between the gateway and the broker."
   ]
  },
  {
   "cell_type": "markdown",
   "metadata": {},
   "source": [
    " ### **The keep-in-mind tactic, recommended by Adafruit themselves.**\n",
    "The Adafruit broker has its own [API](https://pypi.org/project/adafruit-io/) for the end-users. This API is optimized and provides many ease-of-use interfaces. Because we are not going to use the Adafruit API, we need to comply with the best practices recommended by the broker. The quote below is cited from the Adafruit IO MQTT api [documentation](https://io.adafruit.com/api/docs/mqtt.html#adafruit-io-mqtt-api), under the section entitled *Writing Safe MQTT Code*:\n",
    "\n",
    "> **Always. Use. Delay.**  \n",
    "> Make sure there is time in between messages to the Adafruit IO MQTT broker. If you're saving data in an Arduino or CircuitPython sketch inside the program's main loop, make sure you're delaying, sleeping, or using some other technique to put space in between messages.\n",
    "\n",
    "During implementation, I reckoned that there are many routines of the MQTT protocol that run on seperate threads. For example the callback to `on_message()` or `on_disconnect()` function is invoked on its own thread, without any interfering to or impacted from the big `while` of the gateway. This is kinda out of control because according to the safe guide from Adafruit, we must have someway to control the delay between incoming messages. In this situation, because we have no way to tell when the message will come, there are high chances the broker will send out a lot of data to the gateway. If the `on_message()` callback were to handle all data and dispatch to the Arduino, this would lead to serious problem as instructed by the Adafruit documentation. To address this, I use a **shared-buffer queue** for the incoming messages. The `on_message()` callback only bother putting the incoming data onto the queue, and our big `while` loop will constantly check if the queue is empty or not. This way, we can put our control to the `while` loop, simply by inserting a `time.delay()` into it, and the Arduino will happily received data from the dispatching of the while loop without fearing of data lost. The pseudocode is as follow:\n",
    "\n",
    "```python\n",
    "messageBuffer = queue.Queue()\n",
    "\n",
    "def on_message(data, ...):\n",
    "    messageBuffer.put(data)\n",
    "\n",
    "...\n",
    "\n",
    "while True:\n",
    "    if not messageBuffer.empty():\n",
    "        data = messageBuffer.get()\n",
    "        dispatch(data)\n",
    "        \n",
    "    time.delay(SCAN_DELAY)\n",
    "```"
   ]
  },
  {
   "cell_type": "markdown",
   "metadata": {},
   "source": [
    "### **The lock-thread behavior of routines.**\n",
    "The asynchronous behavior of callbacks not only makes the control of incoming messages harder, but also put the data race problems at high risk. There are 2 main concerns regarding this issue:  \n",
    "- the order of debuggings message on terminal\n",
    "- the use of `userdata` object\n",
    "\n",
    "Consider this piece of code in the program:  \n",
    "\n",
    "```python\n",
    "gtw = mqtt.Client(...)  # we instantiate an MQTT object\n",
    "\n",
    "...\n",
    "\n",
    "gtw.connect(...)    # establish a connection to the broker\n",
    "                    # an asynchronus callback will be invoked on successful connection\n",
    "gtw.subscribe(...)  # issue several subscriptions to topics on the server\n",
    "                    # asynchronus callbacks will also invoked\n",
    "```\n",
    "\n",
    "Because we are printing every messages of the callbacks to the terminal, it would be a mess if we leave the asynchronous routines out of control. Furthermore, if we can ensure the callbacks get invoked in order, then later on we can easily add error control to the program."
   ]
  },
  {
   "cell_type": "markdown",
   "metadata": {},
   "source": [
    "### **Gateway program**\n",
    "The first step is to import necessary packages for our program."
   ]
  },
  {
   "cell_type": "code",
   "execution_count": null,
   "metadata": {},
   "outputs": [],
   "source": [
    "import paho.mqtt.client as mqtt\n",
    "import time, queue, serial, threading\n",
    "from serial.serialutil import SerialException\n",
    "import serial.tools.list_ports as serialtool"
   ]
  },
  {
   "cell_type": "markdown",
   "metadata": {},
   "source": [
    "Because we are going to need several hard-coded texts, we should declare some symbolic constants."
   ]
  },
  {
   "cell_type": "code",
   "execution_count": null,
   "metadata": {},
   "outputs": [],
   "source": [
    "# Broker Configurations\n",
    "HOST_NAME = \"io.adafruit.com\"   # using Adafruit IO server\n",
    "HOST_PORT = 8883                # secure connection\n",
    "USERNAME  = \"***\"\n",
    "PASSWORD  = \"***\"\n",
    "\n",
    "# Gateway Configurations\n",
    "GATEWAY_ID  = \"GTW002\"\n",
    "GROUP_KEY   = \"iot-lab\"\n",
    "PUB_QOS = 1\n",
    "SUB_QOS = 1\n",
    "STAT_TOPIC  = \"gateway-status\"\n",
    "SUBSCRIBE_TOPICS = [\n",
    "    \"arduino-led\",      # record led status\n",
    "    \"arduino-servo\",    # record change in servo angle\n",
    "    STAT_TOPIC          # listen to disconnect signal from the broker\n",
    "]\n",
    "SCAN_DELAY  = 1.0\n",
    "TIME_OUT    = 5.0       # maximum waiting time for blocking\n",
    "MAX_FAILED_ATTEMPTS = 3\n",
    "\n",
    "# Devices Configurations\n",
    "BAUDRATE    = 9600    # Arduino default baudrate\n",
    "COM_TOKEN   = 'USB Serial Device'"
   ]
  },
  {
   "cell_type": "markdown",
   "metadata": {},
   "source": [
    "To make the debugging console more descriptive, let add a color scheme."
   ]
  },
  {
   "cell_type": "code",
   "execution_count": null,
   "metadata": {},
   "outputs": [],
   "source": [
    "class col:\n",
    "    cdtag   = '\\033[35;1m'\n",
    "    mestag  = '\\033[1;34m'\n",
    "    pubtag  = '\\033[31;1m'\n",
    "    subtag  = '\\033[0;33m'\n",
    "    good    = '\\033[92m'\n",
    "    bad     = '\\033[31m'\n",
    "    user    = '\\033[0;95m'\n",
    "    topic   = '\\033[1;37m'\n",
    "    message = '\\033[0;94m'\n",
    "    stage   = '\\033[0;93m'\n",
    "    esc     = '\\033[0m'"
   ]
  },
  {
   "cell_type": "markdown",
   "metadata": {},
   "source": [
    "The next step is to settle down several global variables to be used in our program. The majority of the varibales is for thread controling, while some others are used accross the functions. "
   ]
  },
  {
   "cell_type": "code",
   "execution_count": null,
   "metadata": {},
   "outputs": [],
   "source": [
    "block       = False # flag to block thread\n",
    "exquit      = False # flag to raise disconnect interrupt\n",
    "greeting    = True  # flag to indicate whether this is the first time we connect\n",
    "reinit      = False # flag to call init() procedure on reconnect\n",
    "texceed     = False # flag to indicate we've reached maximum blocking time\n",
    "failcount   = 0     # count attempts on fail activity\n",
    "msg         = ''    # hold buffer message read from serial\n",
    "\n",
    "messageBuffer = queue.Queue()   # holds incoming messages\n",
    "devicesBuffer = queue.Queue()   # holds outgoing messages\n",
    "terminate     = False   # control thread termination\n",
    "scanning      = False   # flag to indicate initial setup"
   ]
  },
  {
   "cell_type": "markdown",
   "metadata": {},
   "source": [
    "Now it's time to define some important callbacks for our MQTT protocol. The first callback is the `on_connect()` method, which will be invoked after any call to the `connect()` method of the gateway object."
   ]
  },
  {
   "cell_type": "code",
   "execution_count": null,
   "metadata": {},
   "outputs": [],
   "source": [
    "def on_connect(client, userdata, flags, rc):\n",
    "    if rc != 0:\n",
    "        print(f\"{col.cdtag}[C]{col.esc} {GATEWAY_ID} failed to connect to {USERNAME}: {col.bad}{mqtt.connack_string(rc)}{col.esc}\")\n",
    "    else:\n",
    "        global greeting\n",
    "        if greeting:\n",
    "            print(f\"{col.cdtag}[C]{col.esc} {GATEWAY_ID} connected to {col.user}{USERNAME}{col.esc} with result: {col.good}{mqtt.connack_string(rc)}{col.esc}\")\n",
    "            greeting = False\n",
    "            global block\n",
    "            block = False\n",
    "        else:\n",
    "            print(f\"{col.cdtag}[C]{col.esc} Reconnected to {col.user}{USERNAME}{col.esc} with result: {col.good}{mqtt.connack_string(rc)}{col.esc}\")"
   ]
  }
 ],
 "metadata": {
  "interpreter": {
   "hash": "1baa965d5efe3ac65b79dfc60c0d706280b1da80fedb7760faf2759126c4f253"
  },
  "kernelspec": {
   "display_name": "Python 3.8.2 64-bit",
   "name": "python3"
  },
  "language_info": {
   "codemirror_mode": {
    "name": "ipython",
    "version": 3
   },
   "file_extension": ".py",
   "mimetype": "text/x-python",
   "name": "python",
   "nbconvert_exporter": "python",
   "pygments_lexer": "ipython3",
   "version": "3.8.2"
  }
 },
 "nbformat": 4,
 "nbformat_minor": 4
}
